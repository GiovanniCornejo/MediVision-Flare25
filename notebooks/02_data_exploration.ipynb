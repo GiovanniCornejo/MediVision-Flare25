{
 "cells": [
  {
   "cell_type": "markdown",
   "id": "0",
   "metadata": {},
   "source": [
    "Visualize examples: display a few image-text pairs or QA items to assess image quality, text length, and modality alignment."
   ]
  },
  {
   "cell_type": "code",
   "execution_count": null,
   "id": "1",
   "metadata": {},
   "outputs": [],
   "source": [
    "import pandas as pd\n",
    "from PIL import Image\n",
    "import matplotlib.pyplot as plt\n",
    "import matplotlib.gridspec as gridspec"
   ]
  },
  {
   "cell_type": "code",
   "execution_count": null,
   "id": "2",
   "metadata": {},
   "outputs": [],
   "source": [
    "def create_dataframe_from_qa_json(json_name):\n",
    "    data = pd.read_json('../OmniMedVQA/QA_information/Open-access/'+json_name)\n",
    "    data['image_path'] = data['image_path'].apply(lambda x: '../OmniMedVQA/' + x)\n",
    "    data['image'] = data['image_path'].apply(lambda x: Image.open(x))\n",
    "    return data\n"
   ]
  },
  {
   "cell_type": "code",
   "execution_count": null,
   "id": "3",
   "metadata": {},
   "outputs": [],
   "source": [
    "def show_qa_examples(df, index=[1,2,3]):\n",
    "    option_cols = [col for col in df.columns if col.startswith('option_')]\n",
    "    for i in index:\n",
    "        row = df.iloc[i]\n",
    "        img = row['image']\n",
    "        question = row.get('question', 'N/A')\n",
    "        gt_answer = row.get('gt_answer', 'N/A')\n",
    "        modality = row.get('modality_type', 'N/A')\n",
    "\n",
    "        options = []\n",
    "        for col in sorted(option_cols):\n",
    "            val = row.get(col, None)\n",
    "            if pd.notnull(val):\n",
    "                options.append(f\"{col.replace('option_', '').upper()}: {val}\")\n",
    "        options_str = '\\n'.join(options) if options else 'N/A'\n",
    "\n",
    "        textstr = f\"Question:\\n{question}\\n\\nOptions:\\n{options_str}\\n\\nGT Answer: {gt_answer}\\nModality: {modality}\"\n",
    "\n",
    "        fig = plt.figure(figsize=(12, 6))\n",
    "        gs = gridspec.GridSpec(1, 2, width_ratios=[1.1, 1.3])\n",
    "        ax_img = plt.subplot(gs[0])\n",
    "        ax_txt = plt.subplot(gs[1])\n",
    "        ax_img.imshow(img)\n",
    "        ax_img.axis('off')\n",
    "        ax_txt.axis('off')\n",
    "        ax_txt.set_ylim(0, 1)\n",
    "        ax_txt.text(0, 0.5, textstr, fontsize=12, va='center', ha='left', wrap=True)\n",
    "        fig.subplots_adjust(left=0.05, right=0.95, top=0.95, bottom=0.05)\n",
    "        plt.show()\n"
   ]
  },
  {
   "cell_type": "code",
   "execution_count": null,
   "id": "4",
   "metadata": {},
   "outputs": [],
   "source": [
    "covid_df = create_dataframe_from_qa_json('Covid CT.json')"
   ]
  },
  {
   "cell_type": "code",
   "execution_count": null,
   "id": "5",
   "metadata": {},
   "outputs": [],
   "source": [
    "# Show the first 3 examples\n",
    "show_qa_examples(covid_df, [1,2,120,121])"
   ]
  },
  {
   "cell_type": "code",
   "execution_count": null,
   "id": "6",
   "metadata": {},
   "outputs": [],
   "source": [
    "chest_df = create_dataframe_from_qa_json('Pulmonary Chest MC.json')"
   ]
  },
  {
   "cell_type": "code",
   "execution_count": null,
   "id": "7",
   "metadata": {},
   "outputs": [],
   "source": [
    "show_qa_examples(chest_df, [1,2,12,33,34])"
   ]
  },
  {
   "cell_type": "code",
   "execution_count": null,
   "id": "8",
   "metadata": {},
   "outputs": [],
   "source": [
    "blood_df = create_dataframe_from_qa_json('Blood Cell.json')"
   ]
  },
  {
   "cell_type": "code",
   "execution_count": null,
   "id": "9",
   "metadata": {},
   "outputs": [],
   "source": [
    "show_qa_examples(blood_df, [1,300,-300,-1])"
   ]
  },
  {
   "cell_type": "code",
   "execution_count": null,
   "id": "10",
   "metadata": {},
   "outputs": [],
   "source": []
  }
 ],
 "metadata": {
  "kernelspec": {
   "display_name": "medivision",
   "language": "python",
   "name": "python3"
  },
  "language_info": {
   "codemirror_mode": {
    "name": "ipython",
    "version": 3
   },
   "file_extension": ".py",
   "mimetype": "text/x-python",
   "name": "python",
   "nbconvert_exporter": "python",
   "pygments_lexer": "ipython3",
   "version": "3.12.7"
  }
 },
 "nbformat": 4,
 "nbformat_minor": 5
}
